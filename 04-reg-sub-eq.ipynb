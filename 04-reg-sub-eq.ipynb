{
 "cells": [
  {
   "cell_type": "markdown",
   "metadata": {},
   "source": [
    "# 04-reg-sub-eq.ipynb"
   ]
  },
  {
   "cell_type": "markdown",
   "metadata": {},
   "source": [
    "Processing includes:\n",
    "- image registration with `phase_cross_correlation`\n",
    "- liquid subtraction\n",
    "- adaptive histogram equalization"
   ]
  },
  {
   "cell_type": "code",
   "execution_count": 2,
   "metadata": {},
   "outputs": [],
   "source": [
    "import imageio.v3 as iio\n",
    "import matplotlib.pyplot as plt\n",
    "import napari\n",
    "import numpy as np\n",
    "from pathlib import Path\n",
    "from skimage import exposure, filters, registration, util\n",
    "# Local imports\n",
    "import helpers"
   ]
  },
  {
   "cell_type": "code",
   "execution_count": 26,
   "metadata": {},
   "outputs": [],
   "source": [
    "# Open napari window\n",
    "viewer = napari.Viewer()"
   ]
  },
  {
   "cell_type": "markdown",
   "metadata": {},
   "source": [
    "Note: You may need to put an \"r\" before the image directory path if the string contains backslashes. Don't forget commas between parameters!"
   ]
  },
  {
   "cell_type": "code",
   "execution_count": 4,
   "metadata": {},
   "outputs": [
    {
     "name": "stdout",
     "output_type": "stream",
     "text": [
      "Loading 20 images...\n",
      "Images loaded:\n",
      "['0: 352', '1: 353', '2: 354', '3: 355', '4: 356', '5: 357', '6: 358', '7: 359', '8: 360', '9: 361', '10: 362', '11: 363', '12: 364', '13: 365', '14: 366', '15: 367', '16: 368', '17: 369', '18: 370', '19: 371']\n"
     ]
    },
    {
     "data": {
      "text/plain": [
       "<Image layer 'imgs-352-372-1' at 0x21f50d3a5b0>"
      ]
     },
     "execution_count": 4,
     "metadata": {},
     "output_type": "execute_result"
    }
   ],
   "source": [
    "img_dir = Path(\n",
    "        r'X:\\Radiography Drive\\2013-11_APS'\n",
    "        r'\\Clarke_2013_November\\048_Sn27Bi_100')\n",
    "img_start = 352\n",
    "img_stop = 372\n",
    "img_step = 1\n",
    "imgs = helpers.get_imgs(\n",
    "    img_dir,\n",
    "    img_start=img_start,\n",
    "    img_stop=img_stop,\n",
    "    img_step=img_step,\n",
    "    # n_imgs=20,\n",
    "    print_nums=True\n",
    ")\n"
   ]
  },
  {
   "cell_type": "code",
   "execution_count": 28,
   "metadata": {},
   "outputs": [
    {
     "data": {
      "text/plain": [
       "<Image layer 'imgs-352-372-1' at 0x21f024c1dc0>"
      ]
     },
     "execution_count": 28,
     "metadata": {},
     "output_type": "execute_result"
    }
   ],
   "source": [
    "viewer.add_image(imgs, name=f'imgs-{img_start}-{img_stop}-{img_step}')"
   ]
  },
  {
   "cell_type": "code",
   "execution_count": 5,
   "metadata": {},
   "outputs": [
    {
     "data": {
      "text/plain": [
       "<Image layer 'imgs_sub_crctd' at 0x21f54795f40>"
      ]
     },
     "execution_count": 5,
     "metadata": {},
     "output_type": "execute_result"
    }
   ],
   "source": [
    "# Convert image to float before calculations\n",
    "imgs_float = util.img_as_float(imgs)\n",
    "# Calc liquid-subtracted images without offset/drift-correction\n",
    "imgs_sub = np.zeros_like(imgs_float[-1, :, :])\n",
    "imgs_sub = imgs_float[:, :] - imgs_float[0, :, :]\n",
    "# Calculate max offset between first and last image\n",
    "offset, error, diffphase = registration.phase_cross_correlation(\n",
    "        imgs_float[0, :, :], imgs_float[-1, :, :])\n",
    "max_offset_r = int(offset[0])\n",
    "max_offset_c = int(offset[1])\n",
    "# Calc liquid-subtracted images with offset/drift-correction\n",
    "imgs_sub_crctd = np.zeros(\n",
    "        (imgs_float.shape[0],\n",
    "         imgs_float.shape[1] - abs(max_offset_r),\n",
    "         imgs_float.shape[2] - abs(max_offset_c)))\n",
    "# Iterate through each image and perform subtraction adjusting for offset/drift\n",
    "for i in range(imgs_float.shape[0]):\n",
    "    offset, error, diffphase = registration.phase_cross_correlation(\n",
    "            imgs_float[0, :, :], imgs_float[i, :, :])\n",
    "    offset_r = int(offset[0])\n",
    "    offset_c = int(offset[1])\n",
    "    img_liq = imgs_float[\n",
    "            0,\n",
    "            : imgs_float.shape[1] - abs(max_offset_r),\n",
    "            : imgs_float.shape[2] - abs(max_offset_c)]\n",
    "    img_i = imgs_float[\n",
    "            i,\n",
    "            abs(offset_r) : imgs.shape[1] - (abs(max_offset_r) - abs(offset_r)),\n",
    "            abs(offset_c) : imgs.shape[2] - (abs(max_offset_c) - abs(offset_c))]\n",
    "    imgs_sub_crctd[i, :, :] = img_i - img_liq\n",
    "viewer.add_image(imgs_sub)\n",
    "viewer.add_image(imgs_sub_crctd)"
   ]
  },
  {
   "cell_type": "markdown",
   "metadata": {},
   "source": [
    "## Adaptive histogram equalization"
   ]
  },
  {
   "cell_type": "code",
   "execution_count": 19,
   "metadata": {},
   "outputs": [
    {
     "data": {
      "image/png": "[encoded data removed]",
      "text/plain": [
       "<Figure size 864x432 with 2 Axes>"
      ]
     },
     "metadata": {
      "needs_background": "light"
     },
     "output_type": "display_data"
    },
    {
     "data": {
      "text/plain": [
       "<Image layer 'imgs_sub_adapteq [1]' at 0x21f022125e0>"
      ]
     },
     "execution_count": 19,
     "metadata": {},
     "output_type": "execute_result"
    }
   ],
   "source": [
    "imgs_sub_0to1 = exposure.rescale_intensity(\n",
    "        imgs_sub_crctd, in_range='image', out_range=(0, 1))\n",
    "vals_sub_0to1, bins_sub_0to1 = exposure.histogram(imgs_sub_0to1)\n",
    "imgs_sub_adapteq = exposure.equalize_adapthist(imgs_sub_0to1)\n",
    "vals_sub_adapteq, bins_sub_adapteq = exposure.histogram(\n",
    "        imgs_sub_adapteq)\n",
    "fig, axes = plt.subplots(1, 2, figsize=(12, 6))\n",
    "ax = axes.ravel()\n",
    "ax[0].plot(bins_sub_0to1, vals_sub_0to1)\n",
    "ax[1].plot(bins_sub_adapteq, vals_sub_adapteq)\n",
    "plt.show()\n",
    "viewer.add_image(imgs_sub_adapteq)"
   ]
  },
  {
   "cell_type": "markdown",
   "metadata": {},
   "source": [
    "## Intenisty clipping"
   ]
  },
  {
   "cell_type": "code",
   "execution_count": 25,
   "metadata": {},
   "outputs": [
    {
     "data": {
      "text/plain": [
       "<Image layer 'clipped: [0.38, 0.638]' at 0x21f02069cd0>"
      ]
     },
     "execution_count": 25,
     "metadata": {},
     "output_type": "execute_result"
    }
   ],
   "source": [
    "low, high = np.percentile(imgs_sub_adapteq, (0.1, 99.9))\n",
    "imgs_sub_adapteq_clpd = np.clip(imgs_sub_adapteq, low, high)\n",
    "viewer.add_image(\n",
    "        imgs_sub_adapteq_clpd,\n",
    "        name=f'clipped: [{round(low, 3)}, {round(high, 3)}]')"
   ]
  },
  {
   "cell_type": "markdown",
   "metadata": {},
   "source": [
    "## Beam correction"
   ]
  },
  {
   "cell_type": "code",
   "execution_count": 12,
   "metadata": {},
   "outputs": [
    {
     "data": {
      "text/plain": [
       "<Image layer 'avg_beam float' at 0x21f56b764c0>"
      ]
     },
     "execution_count": 12,
     "metadata": {},
     "output_type": "execute_result"
    }
   ],
   "source": [
    "beam_img_dir = Path(\n",
    "        r\"X:\\Radiography Drive\\2013-11_APS\"\n",
    "        r\"\\Clarke_2013_November\\036_MonoBeam\")\n",
    "beam_imgs = [\n",
    "        iio.imread(path) for path in beam_img_dir.glob('*.tif')\n",
    "        if 'AVG' not in path.stem]\n",
    "beam_imgs = np.stack(beam_imgs)\n",
    "avg_beam_img = np.mean(beam_imgs, axis=0)\n",
    "avg_beam_img = exposure.rescale_intensity(\n",
    "        avg_beam_img, in_range=np.uint16, out_range=float)\n"
   ]
  },
  {
   "cell_type": "code",
   "execution_count": 27,
   "metadata": {},
   "outputs": [
    {
     "data": {
      "text/plain": [
       "<Image layer 'avg_beam float' at 0x21f02499520>"
      ]
     },
     "execution_count": 27,
     "metadata": {},
     "output_type": "execute_result"
    }
   ],
   "source": [
    "viewer.add_image(avg_beam_img, name='avg_beam float')"
   ]
  },
  {
   "cell_type": "code",
   "execution_count": 36,
   "metadata": {},
   "outputs": [
    {
     "data": {
      "image/png": "[encoded data removed]",
      "text/plain": [
       "<Figure size 864x288 with 3 Axes>"
      ]
     },
     "metadata": {
      "needs_background": "light"
     },
     "output_type": "display_data"
    },
    {
     "data": {
      "text/plain": [
       "<Image layer 'img_norm' at 0x21f01a92cd0>"
      ]
     },
     "execution_count": 36,
     "metadata": {},
     "output_type": "execute_result"
    }
   ],
   "source": [
    "imgs_float = exposure.rescale_intensity(\n",
    "        imgs, in_range='image', out_range=(0, 1))\n",
    "img_float = imgs_float[0, :, :]\n",
    "vals_img, bins_img = exposure.histogram(\n",
    "        img_float)\n",
    "vals_avg_beam, bins_avg_beam = exposure.histogram(\n",
    "        avg_beam_img)\n",
    "img_norm = img_float / avg_beam_img\n",
    "vals_img_norm, bins_img_norm = exposure.histogram(\n",
    "        img_norm)\n",
    "fig, axes = plt.subplots(1, 3, figsize=(12, 4))\n",
    "ax = axes.ravel()\n",
    "ax[0].plot(bins_img, vals_img)\n",
    "ax[1].plot(bins_avg_beam, vals_avg_beam)\n",
    "ax[2].plot(bins_img_norm, vals_img_norm)\n",
    "plt.show()\n",
    "viewer.add_image(img_norm)"
   ]
  },
  {
   "cell_type": "code",
   "execution_count": 18,
   "metadata": {},
   "outputs": [
    {
     "data": {
      "text/plain": [
       "<Image layer 'imgs_sub_beam_crctd [1]' at 0x21f020697f0>"
      ]
     },
     "execution_count": 18,
     "metadata": {},
     "output_type": "execute_result"
    }
   ],
   "source": [
    "avg_beam_cropped = avg_beam_img[\n",
    "        : imgs_float.shape[1] - abs(max_offset_r),\n",
    "        : imgs_float.shape[2] - abs(max_offset_c)]\n",
    "imgs_sub_beam_crctd = imgs_sub_crctd / avg_beam_cropped * imgs_sub_crctd.mean()\n",
    "viewer.add_image(imgs_sub_beam_crctd)"
   ]
  },
  {
   "cell_type": "markdown",
   "metadata": {},
   "source": [
    "## Compare median-filtered images"
   ]
  },
  {
   "cell_type": "code",
   "execution_count": 11,
   "metadata": {},
   "outputs": [
    {
     "data": {
      "text/plain": [
       "<Image layer 'imgs_med_sub_crctd' at 0x21f0204b490>"
      ]
     },
     "execution_count": 11,
     "metadata": {},
     "output_type": "execute_result"
    }
   ],
   "source": [
    "# Median filter images before converting to float\n",
    "imgs_med = filters.median(imgs)\n",
    "# Convert image to float before calculations\n",
    "imgs_float = util.img_as_float(imgs_med)\n",
    "# Calc liquid-subtracted images without offset/drift-correction\n",
    "imgs_med_sub = np.zeros_like(imgs_float[-1, :, :])\n",
    "imgs_med_sub = imgs_float[:, :] - imgs_float[0, :, :]\n",
    "# Calculate max offset between first and last image\n",
    "offset, error, diffphase = registration.phase_cross_correlation(\n",
    "        imgs_float[0, :, :], imgs_float[-1, :, :])\n",
    "max_offset_r = int(offset[0])\n",
    "max_offset_c = int(offset[1])\n",
    "# Calc liquid-subtracted images with offset/drift-correction\n",
    "imgs_med_sub_crctd = np.zeros(\n",
    "        (imgs_float.shape[0],\n",
    "         imgs_float.shape[1] - abs(max_offset_r),\n",
    "         imgs_float.shape[2] - abs(max_offset_c)))\n",
    "# Iterate through each image and perform subtraction adjusting for offset/drift\n",
    "for i in range(imgs_float.shape[0]):\n",
    "    offset, error, diffphase = registration.phase_cross_correlation(\n",
    "            imgs_float[0, :, :], imgs_float[i, :, :])\n",
    "    offset_r = int(offset[0])\n",
    "    offset_c = int(offset[1])\n",
    "    img_liq = imgs_float[\n",
    "            0,\n",
    "            : imgs_float.shape[1] - abs(max_offset_r),\n",
    "            : imgs_float.shape[2] - abs(max_offset_c)]\n",
    "    img_i = imgs_float[\n",
    "            i,\n",
    "            abs(offset_r) : imgs.shape[1] - (abs(max_offset_r) - abs(offset_r)),\n",
    "            abs(offset_c) : imgs.shape[2] - (abs(max_offset_c) - abs(offset_c))]\n",
    "    imgs_med_sub_crctd[i, :, :] = img_i - img_liq\n",
    "viewer.add_image(imgs_med_sub)\n",
    "viewer.add_image(imgs_med_sub_crctd)"
   ]
  },
  {
   "cell_type": "code",
   "execution_count": 8,
   "metadata": {},
   "outputs": [],
   "source": [
    "def save_as_pngs(save_dir, imgs):\n",
    "    save_dir = Path(save_dir)\n",
    "    if not save_dir.is_dir():\n",
    "        save_dir.mkdir()\n",
    "    else:\n",
    "        raise ValueError(f'Directory already exists: {save_dir}')\n",
    "    exp_name = save_dir.stem\n",
    "    n_imgs = imgs.shape[0]\n",
    "    n_digits = len(str(n_imgs))\n",
    "    for i in range(n_imgs):\n",
    "        iio.imwrite(\n",
    "                Path(save_dir) / f'{exp_name}_{str(i).zfill(n_digits)}.png',\n",
    "                imgs[i, :, :])"
   ]
  },
  {
   "cell_type": "code",
   "execution_count": 9,
   "metadata": {},
   "outputs": [],
   "source": [
    "if False:\n",
    "    save_dir = Path(\n",
    "        r'C:\\Users\\gusb\\Research\\aps-directional'\n",
    "        r'\\results\\048_Sn27Bi_100-352-372-1_med-filt_liq-sub_adapt-eq')\n",
    "    save_as_pngs(save_dir, imgs_med_sub_0to1_adapteq_uint8)"
   ]
  },
  {
   "cell_type": "code",
   "execution_count": 10,
   "metadata": {},
   "outputs": [],
   "source": [
    "if False:\n",
    "    helpers.save_as_gif(\n",
    "        (\n",
    "            f'results/{img_dir.stem}-{img_start}-{img_stop}-{img_step}'\n",
    "            f'_beam-norm_liq-sub.gif'\n",
    "        ),\n",
    "        imgs_sub_uint_resc,\n",
    "        equalize_hist=False,\n",
    "        fps=5\n",
    "    )"
   ]
  }
 ],
 "metadata": {
  "kernelspec": {
   "display_name": "Python 3.9.5 64-bit (system)",
   "language": "python",
   "name": "python3"
  },
  "language_info": {
   "codemirror_mode": {
    "name": "ipython",
    "version": 3
   },
   "file_extension": ".py",
   "mimetype": "text/x-python",
   "name": "python",
   "nbconvert_exporter": "python",
   "pygments_lexer": "ipython3",
   "version": "3.9.5"
  },
  "orig_nbformat": 4,
  "vscode": {
   "interpreter": {
    "hash": "3c41d41f3d36fd385a14502755cac50397031560266a576f36333e8ea386c7f1"
   }
  }
 },
 "nbformat": 4,
 "nbformat_minor": 2
}
