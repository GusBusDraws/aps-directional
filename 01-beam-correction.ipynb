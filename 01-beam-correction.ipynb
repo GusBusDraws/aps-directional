{
 "cells": [
  {
   "cell_type": "markdown",
   "metadata": {},
   "source": [
    "# 01-beam-correction.ipynb"
   ]
  },
  {
   "cell_type": "code",
   "execution_count": 1,
   "metadata": {},
   "outputs": [],
   "source": [
    "import imageio.v3 as iio\n",
    "import matplotlib.pyplot as plt\n",
    "import napari\n",
    "import numpy as np\n",
    "from pathlib import Path\n",
    "from skimage import exposure, filters, util\n",
    "# Local imports\n",
    "import helpers"
   ]
  },
  {
   "cell_type": "code",
   "execution_count": 2,
   "metadata": {},
   "outputs": [],
   "source": [
    "# Open napari window\n",
    "viewer = napari.Viewer()"
   ]
  },
  {
   "cell_type": "markdown",
   "metadata": {},
   "source": [
    "Note: You may need to put an \"r\" before the image directory path if the string contains backslashes. Don't forget commas between parameters!"
   ]
  },
  {
   "cell_type": "code",
   "execution_count": 3,
   "metadata": {},
   "outputs": [
    {
     "name": "stdout",
     "output_type": "stream",
     "text": [
      "Loading 20 images...\n",
      "Images loaded:\n",
      "['0: 352', '1: 353', '2: 354', '3: 355', '4: 356', '5: 357', '6: 358', '7: 359', '8: 360', '9: 361', '10: 362', '11: 363', '12: 364', '13: 365', '14: 366', '15: 367', '16: 368', '17: 369', '18: 370', '19: 371']\n"
     ]
    }
   ],
   "source": [
    "img_dir = Path(\n",
    "        r'X:\\Radiography Drive\\2013-11_APS'\n",
    "        r'\\Clarke_2013_November\\048_Sn27Bi_100')\n",
    "img_start = 352\n",
    "img_stop = 372\n",
    "img_step = 1\n",
    "imgs = helpers.get_imgs(\n",
    "    img_dir,\n",
    "    img_start=img_start,\n",
    "    img_stop=img_stop,\n",
    "    img_step=img_step,\n",
    "    # n_imgs=20,\n",
    "    print_nums=True\n",
    ")"
   ]
  },
  {
   "cell_type": "code",
   "execution_count": 4,
   "metadata": {},
   "outputs": [
    {
     "data": {
      "text/plain": [
       "<Image layer 'imgs-352-372-1' at 0x28569c1c430>"
      ]
     },
     "execution_count": 4,
     "metadata": {},
     "output_type": "execute_result"
    }
   ],
   "source": [
    "viewer.add_image(imgs, name=f'imgs-{img_start}-{img_stop}-{img_step}')"
   ]
  },
  {
   "cell_type": "code",
   "execution_count": 5,
   "metadata": {},
   "outputs": [
    {
     "name": "stdout",
     "output_type": "stream",
     "text": [
      "105\n",
      "beam_imgs.shape=(105, 1024, 1280)\n"
     ]
    }
   ],
   "source": [
    "beam_img_dir = Path(\n",
    "        r\"X:\\Radiography Drive\\2013-11_APS\"\n",
    "        r\"\\Clarke_2013_November\\036_MonoBeam\")\n",
    "beam_imgs = [\n",
    "        iio.imread(path) for path in beam_img_dir.glob('*.tif')\n",
    "        if 'AVG' not in path.stem]\n",
    "print(len(beam_imgs))\n",
    "beam_imgs = np.stack(beam_imgs)\n",
    "print(f'{beam_imgs.shape=}')"
   ]
  },
  {
   "cell_type": "code",
   "execution_count": 6,
   "metadata": {},
   "outputs": [
    {
     "name": "stdout",
     "output_type": "stream",
     "text": [
      "beam_imgs[0].dtype=dtype('uint16')\n",
      "beam_imgs[0].shape=(1024, 1280)\n",
      "beam_imgs[0].min()=442\n",
      "beam_imgs[0].max()=4095\n"
     ]
    }
   ],
   "source": [
    "print(f'{beam_imgs[0].dtype=}')\n",
    "print(f'{beam_imgs[0].shape=}')\n",
    "print(f'{beam_imgs[0].min()=}')\n",
    "print(f'{beam_imgs[0].max()=}')"
   ]
  },
  {
   "cell_type": "code",
   "execution_count": 7,
   "metadata": {},
   "outputs": [
    {
     "name": "stdout",
     "output_type": "stream",
     "text": [
      "beam_imgs.shape=(105, 1024, 1280)\n",
      "beam_imgs.dtype=dtype('uint16')\n",
      "avg_beam_img.shape=(1024, 1280)\n",
      "avg_beam_img.dtype=dtype('float64')\n",
      "avg_beam_img.min()=0.00711448262833019\n",
      "avg_beam_img.max()=0.06248569466697185\n"
     ]
    }
   ],
   "source": [
    "print(f'{beam_imgs.shape=}')\n",
    "print(f'{beam_imgs.dtype=}')\n",
    "avg_beam_img = np.mean(beam_imgs, axis=0)\n",
    "avg_beam_img = exposure.rescale_intensity(\n",
    "        avg_beam_img, in_range=np.uint16, out_range=float)\n",
    "# avg_beam_img = util.img_as_uint(avg_beam_img)\n",
    "# avg_beam_img = avg_beam_img.astype(np.uint16)\n",
    "print(f'{avg_beam_img.shape=}')\n",
    "print(f'{avg_beam_img.dtype=}')\n",
    "print(f'{avg_beam_img.min()=}')\n",
    "print(f'{avg_beam_img.max()=}')"
   ]
  },
  {
   "cell_type": "code",
   "execution_count": 8,
   "metadata": {},
   "outputs": [
    {
     "data": {
      "text/plain": [
       "<Image layer 'avg uint16' at 0x2856b2eff70>"
      ]
     },
     "execution_count": 8,
     "metadata": {},
     "output_type": "execute_result"
    }
   ],
   "source": [
    "viewer.add_image(avg_beam_img, name='avg uint16')"
   ]
  },
  {
   "cell_type": "code",
   "execution_count": 9,
   "metadata": {},
   "outputs": [
    {
     "name": "stdout",
     "output_type": "stream",
     "text": [
      "avg_beam_img.dtype=dtype('float64')\n",
      "imgs_beam_norm.dtype=dtype('float64')\n"
     ]
    },
    {
     "data": {
      "text/plain": [
       "<Image layer 'beam-norm imgs' at 0x28569c056d0>"
      ]
     },
     "execution_count": 9,
     "metadata": {},
     "output_type": "execute_result"
    }
   ],
   "source": [
    "print(f'{avg_beam_img.dtype=}')\n",
    "# Normalize data by white beam (image of beam without sample)\n",
    "imgs_beam_norm = imgs - (avg_beam_img / imgs)\n",
    "print(f'{imgs_beam_norm.dtype=}')\n",
    "viewer.add_image(imgs_beam_norm, name='beam-norm imgs')"
   ]
  },
  {
   "cell_type": "code",
   "execution_count": 10,
   "metadata": {},
   "outputs": [
    {
     "name": "stdout",
     "output_type": "stream",
     "text": [
      "imgs_liq_sub.dtype=dtype('uint16')\n"
     ]
    },
    {
     "data": {
      "text/plain": [
       "<Image layer 'imgs - liq' at 0x28569bf7df0>"
      ]
     },
     "execution_count": 10,
     "metadata": {},
     "output_type": "execute_result"
    }
   ],
   "source": [
    "# Subtract liquid image from raw data\n",
    "imgs_liq_sub = imgs - imgs[0, :, :]\n",
    "print(f'{imgs_liq_sub.dtype=}')\n",
    "viewer.add_image(imgs_liq_sub, name='imgs - liq')"
   ]
  },
  {
   "cell_type": "code",
   "execution_count": 11,
   "metadata": {},
   "outputs": [
    {
     "name": "stdout",
     "output_type": "stream",
     "text": [
      "imgs_beam_norm_liq_sub.dtype=dtype('float64')\n"
     ]
    },
    {
     "data": {
      "text/plain": [
       "<Image layer 'beam_norm - liq' at 0x28563407c70>"
      ]
     },
     "execution_count": 11,
     "metadata": {},
     "output_type": "execute_result"
    }
   ],
   "source": [
    "# Subtract liquid image from normalized data\n",
    "imgs_beam_norm_liq_sub = imgs_beam_norm - imgs_beam_norm[0, :, :]\n",
    "print(f'{imgs_beam_norm_liq_sub.dtype=}')\n",
    "viewer.add_image(imgs_beam_norm_liq_sub, name='beam_norm - liq')"
   ]
  },
  {
   "cell_type": "code",
   "execution_count": 12,
   "metadata": {},
   "outputs": [
    {
     "name": "stdout",
     "output_type": "stream",
     "text": [
      "imgs_float_liq_sub.dtype=dtype('float64')\n",
      "imgs_float_liq_sub.min()=-0.014908064393072403\n",
      "imgs_float_liq_sub.max()=0.021484702830548562\n"
     ]
    },
    {
     "data": {
      "text/plain": [
       "<Image layer 'imgs_float - liq' at 0x285634077c0>"
      ]
     },
     "execution_count": 12,
     "metadata": {},
     "output_type": "execute_result"
    }
   ],
   "source": [
    "# Subtract liquid image from data (float)\n",
    "imgs_float = util.img_as_float(imgs)\n",
    "imgs_float_liq_sub = imgs_float - imgs_float[0, :, :]\n",
    "print(f'{imgs_float_liq_sub.dtype=}')\n",
    "print(f'{imgs_float_liq_sub.min()=}')\n",
    "print(f'{imgs_float_liq_sub.max()=}')\n",
    "viewer.add_image(imgs_liq_sub, name='imgs_float - liq')"
   ]
  },
  {
   "cell_type": "code",
   "execution_count": 13,
   "metadata": {},
   "outputs": [
    {
     "data": {
      "image/png": "[encoded data removed]",
      "text/plain": [
       "<Figure size 1080x360 with 3 Axes>"
      ]
     },
     "metadata": {
      "needs_background": "light"
     },
     "output_type": "display_data"
    }
   ],
   "source": [
    "vals_sub, bins_sub = exposure.histogram(imgs_liq_sub)\n",
    "vals_float_sub, bins_float_sub = exposure.histogram(imgs_float_liq_sub)\n",
    "vals_beam_norm_sub, bins_beam_norm_sub = exposure.histogram(\n",
    "        imgs_beam_norm_liq_sub)\n",
    "fig, axes = plt.subplots(1, 3, figsize=(15, 5))\n",
    "ax = axes.ravel()\n",
    "ax[0].plot(bins_sub, vals_sub)\n",
    "ax[1].plot(bins_float_sub, vals_float_sub)\n",
    "ax[2].plot(bins_beam_norm_sub, vals_beam_norm_sub)\n",
    "plt.show()"
   ]
  },
  {
   "cell_type": "code",
   "execution_count": null,
   "metadata": {},
   "outputs": [],
   "source": [
    "imgs_sub_uint16_conv = util.img_as_uint(imgs_float_liq_sub)\n",
    "viewer.add_image(imgs_sub_uint16_conv, name='converted to uint16')\n",
    "vals_sub_uint16_conv, bins_sub_uint16_conv = exposure.histogram(\n",
    "        imgs_sub_uint16_conv)\n",
    "imgs_sub_uint16_resc = exposure.rescale_intensity(\n",
    "        imgs_float_liq_sub, in_range='image', out_range='uint16')\n",
    "viewer.add_image(imgs_sub_uint16_resc, name='rescaled to uint16')\n",
    "vals_sub_uint16_resc, bins_sub_uint16_resc = exposure.histogram(\n",
    "        imgs_sub_uint16_resc)\n",
    "fig, axes = plt.subplots(1, 3, figsize=(15, 5))\n",
    "ax = axes.ravel()\n",
    "ax[0].plot(bins_float_sub, vals_float_sub)\n",
    "ax[1].plot(bins_sub_uint16_conv, vals_sub_uint16_conv)\n",
    "ax[2].plot(bins_sub_uint16_resc, vals_sub_uint16_resc)\n",
    "plt.show()"
   ]
  },
  {
   "cell_type": "code",
   "execution_count": 19,
   "metadata": {},
   "outputs": [
    {
     "data": {
      "image/png": "[encoded data removed]",
      "text/plain": [
       "<Figure size 1080x360 with 3 Axes>"
      ]
     },
     "metadata": {
      "needs_background": "light"
     },
     "output_type": "display_data"
    }
   ],
   "source": [
    "imgs_sub_uint8_resc = exposure.rescale_intensity(\n",
    "        imgs_float_liq_sub, in_range='image', out_range='uint8')\n",
    "viewer.add_image(imgs_sub_uint8_resc, name='rescaled to uint8')\n",
    "vals_sub_uint8_resc, bins_sub_uint8_resc = exposure.histogram(\n",
    "        imgs_sub_uint8_resc)\n",
    "fig, axes = plt.subplots(1, 3, figsize=(15, 5))\n",
    "ax = axes.ravel()\n",
    "ax[0].plot(bins_float_sub, vals_float_sub)\n",
    "ax[1].plot(bins_sub_uint16_resc, vals_sub_uint16_resc)\n",
    "ax[2].plot(bins_sub_uint8_resc, vals_sub_uint8_resc)\n",
    "plt.show()"
   ]
  },
  {
   "cell_type": "code",
   "execution_count": 25,
   "metadata": {},
   "outputs": [],
   "source": [
    "def save_as_pngs(save_dir, imgs):\n",
    "    save_dir = Path(save_dir)\n",
    "    if not save_dir.is_dir():\n",
    "        save_dir.mkdir()\n",
    "    else:\n",
    "        raise ValueError(f'Directory already exists: {save_dir}')\n",
    "    exp_name = save_dir.stem\n",
    "    n_imgs = imgs.shape[0]\n",
    "    n_digits = len(str(n_imgs))\n",
    "    for i in range(n_imgs):\n",
    "        iio.imwrite(\n",
    "                Path(save_dir) / f'{exp_name}_{str(i).zfill(n_digits)}.png',\n",
    "                imgs[i, :, :])"
   ]
  },
  {
   "cell_type": "code",
   "execution_count": 26,
   "metadata": {},
   "outputs": [],
   "source": [
    "save_dir = Path(\n",
    "        r'C:\\Users\\gusb\\Research\\aps-directional'\n",
    "        r'\\results\\048_Sn27Bi_100-352-372-1_liq-sub')\n",
    "save_as_pngs(save_dir, imgs_sub_uint8_resc)"
   ]
  },
  {
   "cell_type": "code",
   "execution_count": null,
   "metadata": {},
   "outputs": [],
   "source": [
    "helpers.save_as_gif(\n",
    "    (\n",
    "        f'results/{img_dir.stem}-{img_start}-{img_stop}-{img_step}'\n",
    "        f'_beam-norm_liq-sub.gif'\n",
    "    ),\n",
    "    imgs_sub_uint_resc,\n",
    "    equalize_hist=False,\n",
    "    fps=5\n",
    ")"
   ]
  }
 ],
 "metadata": {
  "kernelspec": {
   "display_name": "Python 3.9.5 64-bit (system)",
   "language": "python",
   "name": "python3"
  },
  "language_info": {
   "codemirror_mode": {
    "name": "ipython",
    "version": 3
   },
   "file_extension": ".py",
   "mimetype": "text/x-python",
   "name": "python",
   "nbconvert_exporter": "python",
   "pygments_lexer": "ipython3",
   "version": "3.9.5"
  },
  "orig_nbformat": 4,
  "vscode": {
   "interpreter": {
    "hash": "3c41d41f3d36fd385a14502755cac50397031560266a576f36333e8ea386c7f1"
   }
  }
 },
 "nbformat": 4,
 "nbformat_minor": 2
}
