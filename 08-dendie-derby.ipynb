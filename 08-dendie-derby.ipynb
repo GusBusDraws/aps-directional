{
 "cells": [
  {
   "cell_type": "markdown",
   "metadata": {},
   "source": [
    "# 08-dendie-derby.ipynb"
   ]
  },
  {
   "cell_type": "code",
   "execution_count": 1,
   "metadata": {},
   "outputs": [],
   "source": [
    "use_napari = True\n",
    "import imageio.v3 as iio\n",
    "import matplotlib.pyplot as plt\n",
    "from matplotlib_scalebar.scalebar import ScaleBar\n",
    "if use_napari:\n",
    "    import napari\n",
    "import numpy as np\n",
    "from pathlib import Path\n",
    "from skimage import exposure, filters, registration, util\n",
    "# Local imports\n",
    "import helpers\n",
    "# Enable autoreload for local modules\n",
    "%load_ext autoreload\n",
    "%autoreload 2"
   ]
  },
  {
   "cell_type": "markdown",
   "metadata": {},
   "source": [
    "Note: You may need to put an \"r\" before the image directory path if the string contains backslashes. Don't forget commas between parameters!"
   ]
  },
  {
   "cell_type": "code",
   "execution_count": 2,
   "metadata": {},
   "outputs": [],
   "source": [
    "if use_napari:\n",
    "    # Open napari window\n",
    "    viewer = napari.Viewer()"
   ]
  },
  {
   "cell_type": "code",
   "execution_count": 3,
   "metadata": {},
   "outputs": [
    {
     "name": "stdout",
     "output_type": "stream",
     "text": [
      "Loading 240 images...\n",
      "Images loaded.\n"
     ]
    }
   ],
   "source": [
    "# Load images\n",
    "img_dir = Path(\n",
    "        r'X:\\Radiography Drive\\2013-11_APS'\n",
    "        r'\\Clarke_2013_November\\057_Sn27Bi_100RB')\n",
    "img_start = 112\n",
    "img_stop = 352\n",
    "img_step = 1\n",
    "imgs_raw = helpers.get_imgs(\n",
    "    img_dir,\n",
    "    img_start=img_start,\n",
    "    img_stop=img_stop,\n",
    "    img_step=img_step,\n",
    "    print_nums=False\n",
    ")\n",
    "if use_napari:\n",
    "    viewer.add_image(imgs_raw, name=f'imgs-{img_start}-{img_stop}-{img_step}')\n"
   ]
  },
  {
   "cell_type": "code",
   "execution_count": 4,
   "metadata": {},
   "outputs": [
    {
     "name": "stdout",
     "output_type": "stream",
     "text": [
      "Applying median filter...\n",
      "374 0\n"
     ]
    }
   ],
   "source": [
    "# Median filter images before converting to float\n",
    "print('Applying median filter...')\n",
    "imgs_med = filters.median(imgs_raw)\n",
    "# Convert image to float before calculations\n",
    "imgs_float = util.img_as_float(imgs_med)\n",
    "# Calculate offset_1 after first movement\n",
    "offset, error, diffphase = registration.phase_cross_correlation(\n",
    "        imgs_float[101, :, :], imgs_float[104, :, :])\n",
    "offset_1_r = int(offset[0])\n",
    "offset_1_c = int(offset[1])\n",
    "print(offset_1_r, offset_1_c)"
   ]
  },
  {
   "cell_type": "code",
   "execution_count": 18,
   "metadata": {},
   "outputs": [],
   "source": [
    "imgs_med = None\n",
    "imgs_raw = None"
   ]
  },
  {
   "cell_type": "code",
   "execution_count": 28,
   "metadata": {},
   "outputs": [
    {
     "name": "stdout",
     "output_type": "stream",
     "text": [
      "imgs_float.shape=(240, 1024, 1280)\n",
      "imgs_crctd.shape=(240, 1398, 1280)\n",
      "pre_offset_1.shape=(138, 374, 1280)\n"
     ]
    }
   ],
   "source": [
    "print(f'{imgs_float.shape=}')\n",
    "# Calc liquid-subtracted images with offset/drift-correction\n",
    "imgs_crctd = np.zeros(\n",
    "        (imgs_float.shape[0],\n",
    "         imgs_float.shape[1] + abs(offset_1_r),\n",
    "         imgs_float.shape[2] + abs(offset_1_c)))\n",
    "print(f'{imgs_crctd.shape=}')\n",
    "# Add pre-offset_1 images\n",
    "imgs_crctd[: 102, : imgs_float.shape[1], : imgs_float.shape[2]] = (\n",
    "        imgs_float[: 102, :, :])\n",
    "# Add pre-offset_1 sliver to the rest of the experiment\n",
    "pre_offset_1 = [imgs_float[101, : offset_1_r, :]] * (imgs_float.shape[0] - 102)\n",
    "pre_offset_1 = np.stack(pre_offset_1)\n",
    "print(f'{pre_offset_1.shape=}')\n",
    "imgs_crctd[102 :, : offset_1_r, :] = pre_offset_1\n",
    "# Add offset_1 images\n",
    "imgs_crctd[\n",
    "    102 : 117,\n",
    "    offset_1_r : imgs_float.shape[1] + offset_1_r,\n",
    "    offset_1_c : imgs_float.shape[2] + offset_1_c\n",
    "] = imgs_float[106 : 121, :, :]\n",
    "if use_napari:\n",
    "    viewer.add_image(imgs_crctd)"
   ]
  },
  {
   "cell_type": "code",
   "execution_count": 29,
   "metadata": {},
   "outputs": [
    {
     "name": "stdout",
     "output_type": "stream",
     "text": [
      "374 0\n"
     ]
    }
   ],
   "source": [
    "# Calculate offset_2 after first movement\n",
    "offset_2, error, diffphase = registration.phase_cross_correlation(\n",
    "        imgs_float[111, :, :], imgs_float[120, :, :])\n",
    "offset_2_r = int(offset[0])\n",
    "offset_2_c = int(offset[1])\n",
    "print(offset_2_r, offset_2_c)"
   ]
  },
  {
   "cell_type": "code",
   "execution_count": null,
   "metadata": {},
   "outputs": [],
   "source": [
    "# Process images\n",
    "imgs_crctd = helpers.align_and_sub_liq(\n",
    "        imgs_raw, clip=[0.1, 99.9], hist_eq_clip_lim=0.0001)\n",
    "if use_napari:\n",
    "    viewer.add_image(imgs_crctd)\n",
    "# Save images\n",
    "save_dir = Path(\n",
    "    r'C:\\Users\\cgusb\\Research\\aps-directional'\n",
    "    fr'\\results\\{img_dir.stem}-{img_start}-{img_stop}-{img_step}'\n",
    "    '_med-filt_liq-sub_aligned_clip')\n",
    "# Image widths and heights must be multiple of 2 for mp4 compression,\n",
    "# adjust odd number width by excluding last column\n",
    "helpers.save_as_pngs(\n",
    "        save_dir, imgs_crctd[:, :, :-1], scalebar_dict={\n",
    "                'dx' : 1.4, 'units' : \"um\", 'length_fraction' : 0.2,\n",
    "                'border_pad' : 0.5, 'location' : 'lower right'})"
   ]
  }
 ],
 "metadata": {
  "kernelspec": {
   "display_name": "Python 3.9.5 64-bit (system)",
   "language": "python",
   "name": "python3"
  },
  "language_info": {
   "codemirror_mode": {
    "name": "ipython",
    "version": 3
   },
   "file_extension": ".py",
   "mimetype": "text/x-python",
   "name": "python",
   "nbconvert_exporter": "python",
   "pygments_lexer": "ipython3",
   "version": "3.9.5"
  },
  "orig_nbformat": 4,
  "vscode": {
   "interpreter": {
    "hash": "067179a0a692469cb10e3b6aaadb616f3867f3ff1d514298e3abab0aaa096b77"
   }
  }
 },
 "nbformat": 4,
 "nbformat_minor": 2
}
