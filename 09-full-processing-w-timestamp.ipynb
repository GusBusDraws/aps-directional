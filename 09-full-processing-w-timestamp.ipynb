{
 "cells": [
  {
   "cell_type": "markdown",
   "metadata": {},
   "source": [
    "# 07-full-processing.ipynb"
   ]
  },
  {
   "cell_type": "code",
   "execution_count": 2,
   "metadata": {},
   "outputs": [
    {
     "name": "stdout",
     "output_type": "stream",
     "text": [
      "The autoreload extension is already loaded. To reload it, use:\n",
      "  %reload_ext autoreload\n"
     ]
    }
   ],
   "source": [
    "use_napari = False\n",
    "import imageio.v3 as iio\n",
    "import matplotlib.pyplot as plt\n",
    "from matplotlib_scalebar.scalebar import ScaleBar\n",
    "if use_napari:\n",
    "    import napari\n",
    "import numpy as np\n",
    "from pathlib import Path\n",
    "from skimage import exposure, filters, registration, util\n",
    "# Local imports\n",
    "import helpers\n",
    "# Enable autoreload for local modules\n",
    "%load_ext autoreload\n",
    "%autoreload 2"
   ]
  },
  {
   "cell_type": "markdown",
   "metadata": {},
   "source": [
    "Note: You may need to put an \"r\" before the image directory path if the string contains backslashes. Don't forget commas between parameters!"
   ]
  },
  {
   "cell_type": "code",
   "execution_count": 27,
   "metadata": {},
   "outputs": [],
   "source": [
    "if use_napari:\n",
    "    # Open napari window\n",
    "    viewer = napari.Viewer()"
   ]
  },
  {
   "cell_type": "code",
   "execution_count": 96,
   "metadata": {},
   "outputs": [
    {
     "name": "stdout",
     "output_type": "stream",
     "text": [
      "Loading 6 images...\n",
      "Images loaded.\n",
      "Applying median filter...\n",
      "Calculating max offset between first and last images...\n",
      "Aligning each image and subtracting liquid image...\n",
      "Clipping highest and lowest intensities...\n",
      "Equalizing histograms...\n",
      "6 images processed.\n",
      "Saving images...\n",
      "6 images saved to: C:\\Users\\gusb\\Research\\aps-directional\\results\\055_Sn27Bi_100_391-397-1\n"
     ]
    }
   ],
   "source": [
    "# Load images\n",
    "img_dir = Path(\n",
    "        r'X:\\Radiography Drive\\2013-11_APS'\n",
    "        r'\\Clarke_2013_November\\055_Sn27Bi_100')\n",
    "img_start = 391\n",
    "img_stop = 397\n",
    "img_step = 1\n",
    "fps = 0.8459\n",
    "imgs_raw = helpers.get_imgs(\n",
    "    img_dir,\n",
    "    img_start=img_start,\n",
    "    img_stop=img_stop,\n",
    "    img_step=img_step,\n",
    "    print_nums=False\n",
    ")\n",
    "if use_napari:\n",
    "    viewer.add_image(imgs_raw, name=f'imgs-{img_start}-{img_stop}-{img_step}')\n",
    "# Process images\n",
    "imgs_crctd = helpers.align_and_sub_liq(\n",
    "        imgs_raw, clip=[0.1, 99.9], hist_eq_clip_lim=0.0001)\n",
    "if use_napari:\n",
    "    viewer.add_image(imgs_crctd)\n",
    "# Save images\n",
    "save_dir = Path(\n",
    "    fr'C:\\Users\\gusb\\Research\\aps-directional'\n",
    "    fr'\\results\\{img_dir.stem}_{img_start}-{img_stop}-{img_step}')\n",
    "helpers.save_as_pngs(\n",
    "        save_dir, imgs_crctd,\n",
    "        scalebar_dict=dict(\n",
    "                dx=1.4, units=\"um\", length_fraction=0.2,\n",
    "                border_pad=0.5, location='lower right'),\n",
    "        timestamp_dict=dict(\n",
    "                x=25, y=50, fps=fps, digits_before_dec=3,\n",
    "                digits_after_dec=3))"
   ]
  }
 ],
 "metadata": {
  "kernelspec": {
   "display_name": "Python 3.9.5 64-bit (system)",
   "language": "python",
   "name": "python3"
  },
  "language_info": {
   "codemirror_mode": {
    "name": "ipython",
    "version": 3
   },
   "file_extension": ".py",
   "mimetype": "text/x-python",
   "name": "python",
   "nbconvert_exporter": "python",
   "pygments_lexer": "ipython3",
   "version": "3.9.5"
  },
  "orig_nbformat": 4,
  "vscode": {
   "interpreter": {
    "hash": "3c41d41f3d36fd385a14502755cac50397031560266a576f36333e8ea386c7f1"
   }
  }
 },
 "nbformat": 4,
 "nbformat_minor": 2
}
