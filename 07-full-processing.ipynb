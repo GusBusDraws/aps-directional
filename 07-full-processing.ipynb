{
 "cells": [
  {
   "cell_type": "markdown",
   "metadata": {},
   "source": [
    "# 07-full-processing.ipynb"
   ]
  },
  {
   "cell_type": "code",
   "execution_count": 1,
   "metadata": {},
   "outputs": [],
   "source": [
    "use_napari = True\n",
    "import imageio.v3 as iio\n",
    "import matplotlib.pyplot as plt\n",
    "from matplotlib_scalebar.scalebar import ScaleBar\n",
    "if use_napari:\n",
    "    import napari\n",
    "import numpy as np\n",
    "from pathlib import Path\n",
    "from skimage import exposure, filters, registration, util\n",
    "# Local imports\n",
    "import helpers\n",
    "# Enable autoreload for local modules\n",
    "%load_ext autoreload\n",
    "%autoreload 2"
   ]
  },
  {
   "cell_type": "markdown",
   "metadata": {},
   "source": [
    "Note: You may need to put an \"r\" before the image directory path if the string contains backslashes. Don't forget commas between parameters!"
   ]
  },
  {
   "cell_type": "code",
   "execution_count": 27,
   "metadata": {},
   "outputs": [],
   "source": [
    "if use_napari:\n",
    "    # Open napari window\n",
    "    viewer = napari.Viewer()"
   ]
  },
  {
   "cell_type": "code",
   "execution_count": 36,
   "metadata": {},
   "outputs": [
    {
     "name": "stdout",
     "output_type": "stream",
     "text": [
      "Loading 240 images...\n",
      "Images loaded.\n"
     ]
    }
   ],
   "source": [
    "# Load images\n",
    "img_dir = Path(\n",
    "        r'X:\\Radiography Drive\\2013-11_APS'\n",
    "        r'\\Clarke_2013_November\\057_Sn27Bi_100RB')\n",
    "img_start = 112\n",
    "img_stop = 352\n",
    "img_step = 1\n",
    "imgs_raw = helpers.get_imgs(\n",
    "    img_dir,\n",
    "    img_start=img_start,\n",
    "    img_stop=img_stop,\n",
    "    img_step=img_step,\n",
    "    print_nums=False\n",
    ")\n",
    "if use_napari:\n",
    "    viewer.add_image(imgs_raw, name=f'imgs-{img_start}-{img_stop}-{img_step}')\n"
   ]
  },
  {
   "cell_type": "code",
   "execution_count": null,
   "metadata": {},
   "outputs": [],
   "source": [
    "# Process images\n",
    "imgs_crctd = helpers.align_and_sub_liq(\n",
    "        imgs_raw, clip=[0.1, 99.9], hist_eq_clip_lim=0.0001)\n",
    "if use_napari:\n",
    "    viewer.add_image(imgs_crctd)\n",
    "# Save images\n",
    "save_dir = Path(\n",
    "    r'C:\\Users\\cgusb\\Research\\aps-directional'\n",
    "    fr'\\results\\{img_dir.stem}-{img_start}-{img_stop}-{img_step}'\n",
    "    '_med-filt_liq-sub_aligned_clip')\n",
    "# Image widths and heights must be multiple of 2 for mp4 compression,\n",
    "# adjust odd number width by excluding last column\n",
    "helpers.save_as_pngs(\n",
    "        save_dir, imgs_crctd[:, :, :-1], scalebar_dict={\n",
    "                'dx' : 1.4, 'units' : \"um\", 'length_fraction' : 0.2,\n",
    "                'border_pad' : 0.5, 'location' : 'lower right'})"
   ]
  }
 ],
 "metadata": {
  "kernelspec": {
   "display_name": "Python 3.9.5 64-bit (system)",
   "language": "python",
   "name": "python3"
  },
  "language_info": {
   "codemirror_mode": {
    "name": "ipython",
    "version": 3
   },
   "file_extension": ".py",
   "mimetype": "text/x-python",
   "name": "python",
   "nbconvert_exporter": "python",
   "pygments_lexer": "ipython3",
   "version": "3.9.5"
  },
  "orig_nbformat": 4,
  "vscode": {
   "interpreter": {
    "hash": "067179a0a692469cb10e3b6aaadb616f3867f3ff1d514298e3abab0aaa096b77"
   }
  }
 },
 "nbformat": 4,
 "nbformat_minor": 2
}
