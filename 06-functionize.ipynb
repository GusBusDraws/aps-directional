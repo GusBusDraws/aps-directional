{
 "cells": [
  {
   "cell_type": "markdown",
   "metadata": {},
   "source": [
    "# 06-functionize.ipynb"
   ]
  },
  {
   "cell_type": "markdown",
   "metadata": {},
   "source": [
    "Processing includes:\n",
    "- image registration with `phase_cross_correlation`\n",
    "- liquid subtraction\n",
    "- adaptive histogram equalization"
   ]
  },
  {
   "cell_type": "code",
   "execution_count": 1,
   "metadata": {},
   "outputs": [],
   "source": [
    "use_napari = False\n",
    "import imageio.v3 as iio\n",
    "import matplotlib.pyplot as plt\n",
    "from matplotlib_scalebar.scalebar import ScaleBar\n",
    "if use_napari:\n",
    "    import napari\n",
    "import numpy as np\n",
    "from pathlib import Path\n",
    "from skimage import exposure, filters, registration, util\n",
    "# Local imports\n",
    "import helpers\n",
    "# Enable autoreload for local modules\n",
    "%load_ext autoreload\n",
    "%autoreload 2"
   ]
  },
  {
   "cell_type": "code",
   "execution_count": 2,
   "metadata": {},
   "outputs": [],
   "source": [
    "def align_and_sub_liq(imgs, clip=[0.1, 99.9], eq_hist=True):\n",
    "    # Median filter images before converting to float\n",
    "    print('Applying median filter...')\n",
    "    imgs_med = filters.median(imgs)\n",
    "    # Convert image to float before calculations\n",
    "    imgs_float = util.img_as_float(imgs_med)\n",
    "    # Calculate max offset between first and last image\n",
    "    print('Calculating max offset between first and last images...')\n",
    "    offset, error, diffphase = registration.phase_cross_correlation(\n",
    "            imgs_float[0, :, :], imgs_float[-1, :, :])\n",
    "    max_offset_r = int(offset[0])\n",
    "    max_offset_c = int(offset[1])\n",
    "    # Calc liquid-subtracted images with offset/drift-correction\n",
    "    imgs_crctd = np.zeros(\n",
    "            (imgs_float.shape[0],\n",
    "            imgs_float.shape[1] - abs(max_offset_r),\n",
    "            imgs_float.shape[2] - abs(max_offset_c)))\n",
    "    # Iterate through each image and perform subtraction adjusting for offset\n",
    "    print('Aligning each image and subtracting liquid image...')\n",
    "    for i in range(imgs_float.shape[0]):\n",
    "        offset, error, diffphase = registration.phase_cross_correlation(\n",
    "                imgs_float[0, :, :], imgs_float[i, :, :])\n",
    "        offset_r = int(offset[0])\n",
    "        offset_c = int(offset[1])\n",
    "        img_liq = imgs_float[\n",
    "                0,\n",
    "                : imgs_float.shape[1] - abs(max_offset_r),\n",
    "                : imgs_float.shape[2] - abs(max_offset_c)]\n",
    "        img_i = imgs_float[\n",
    "                i,\n",
    "                abs(offset_r) : imgs.shape[1] - (abs(max_offset_r) - abs(offset_r)),\n",
    "                abs(offset_c) : imgs.shape[2] - (abs(max_offset_c) - abs(offset_c))]\n",
    "        imgs_crctd[i, :, :] = img_i - img_liq\n",
    "    if clip is not None:\n",
    "        print('Clipping highest and lowest intensities...')\n",
    "        low, high = np.percentile(imgs_crctd, (clip[0], clip[1]))\n",
    "        imgs_crctd = np.clip(imgs_crctd, low, high)\n",
    "    if eq_hist:\n",
    "        print('Equalizing histograms...')\n",
    "        imgs_sub_0to1 = exposure.rescale_intensity(\n",
    "                imgs_crctd, in_range='image', out_range=(0, 1))\n",
    "        imgs_crctd = exposure.equalize_adapthist(imgs_sub_0to1)\n",
    "    return imgs_crctd"
   ]
  },
  {
   "cell_type": "markdown",
   "metadata": {},
   "source": [
    "Note: You may need to put an \"r\" before the image directory path if the string contains backslashes. Don't forget commas between parameters!"
   ]
  },
  {
   "cell_type": "code",
   "execution_count": 9,
   "metadata": {},
   "outputs": [
    {
     "name": "stdout",
     "output_type": "stream",
     "text": [
      "Loading 20 images...\n",
      "Images loaded:\n",
      "['0: 352', '1: 353', '2: 354', '3: 355', '4: 356', '5: 357', '6: 358', '7: 359', '8: 360', '9: 361', '10: 362', '11: 363', '12: 364', '13: 365', '14: 366', '15: 367', '16: 368', '17: 369', '18: 370', '19: 371']\n",
      "Applying median filter...\n",
      "Calculating max offset between first and last images...\n",
      "Aligning each image and subtracting liquid image...\n",
      "Clipping highest and lowest intensities...\n",
      "Equalizing histograms...\n"
     ]
    }
   ],
   "source": [
    "img_dir = Path(\n",
    "        r'X:\\Radiography Drive\\2013-11_APS'\n",
    "        r'\\Clarke_2013_November\\048_Sn27Bi_100')\n",
    "img_start = 352\n",
    "img_stop = 372\n",
    "img_step = 1\n",
    "imgs_raw = helpers.get_imgs(\n",
    "    img_dir,\n",
    "    img_start=img_start,\n",
    "    img_stop=img_stop,\n",
    "    img_step=img_step,\n",
    "    print_nums=True\n",
    ")\n",
    "imgs_crctd = align_and_sub_liq(imgs_raw, clip=[0.1, 99.9], eq_hist=True)\n",
    "if use_napari:\n",
    "    # Open napari window\n",
    "    viewer = napari.Viewer()\n",
    "    viewer.add_image(imgs_raw, name=f'imgs-{img_start}-{img_stop}-{img_step}')\n",
    "    viewer.add_image(imgs_crctd)"
   ]
  },
  {
   "cell_type": "code",
   "execution_count": 14,
   "metadata": {},
   "outputs": [
    {
     "name": "stdout",
     "output_type": "stream",
     "text": [
      "Saving images...\n",
      "20 images saved to: C:\\Users\\cgusb\\Research\\aps-directional\\results\\048_Sn27Bi_100-352-372-1_med-filt_liq-sub_aligned_clip\n"
     ]
    }
   ],
   "source": [
    "if True:\n",
    "    save_dir = Path(\n",
    "        r'C:\\Users\\cgusb\\Research\\aps-directional'\n",
    "        r'\\results\\048_Sn27Bi_100-352-372-1_med-filt_liq-sub_aligned_clip')\n",
    "    # Image widths and heights must be multiple of 2 for mp4 compression,\n",
    "    # adjust odd number width by excluding last column\n",
    "    helpers.save_as_pngs(\n",
    "            save_dir, imgs_crctd[:, :, :], scalebar_dict={\n",
    "                    'dx' : 1.4, 'units' : \"um\", 'length_fraction' : 0.2,\n",
    "                    'border_pad' : 0.5, 'location' : 'lower right'})"
   ]
  }
 ],
 "metadata": {
  "kernelspec": {
   "display_name": "Python 3.9.5 64-bit (system)",
   "language": "python",
   "name": "python3"
  },
  "language_info": {
   "codemirror_mode": {
    "name": "ipython",
    "version": 3
   },
   "file_extension": ".py",
   "mimetype": "text/x-python",
   "name": "python",
   "nbconvert_exporter": "python",
   "pygments_lexer": "ipython3",
   "version": "3.9.5"
  },
  "orig_nbformat": 4,
  "vscode": {
   "interpreter": {
    "hash": "067179a0a692469cb10e3b6aaadb616f3867f3ff1d514298e3abab0aaa096b77"
   }
  }
 },
 "nbformat": 4,
 "nbformat_minor": 2
}
