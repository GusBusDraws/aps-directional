{
 "cells": [
  {
   "cell_type": "markdown",
   "metadata": {},
   "source": [
    "# image-preview.ipynb\n",
    "This Jupyter notebook uses napari to preview a subset of images in a a directory when there are too many images to load at one time. There are three steps:\n",
    "1. Run the cell below to import packages and open the napari viewer window\n",
    "2. In a cell below, call `get_imgs()` with the desired parameters and add the images to the napari viewer using `viewer.add_image()`\n",
    "3. Image sequences can be saved as animation with the `save_as_gif()` function. Note: GIFs become very large when they have many frames. To make longer videos (> 50ish images), use software like FFMpeg."
   ]
  },
  {
   "cell_type": "code",
   "execution_count": 2,
   "metadata": {},
   "outputs": [],
   "source": [
    "# Third-party imports\n",
    "import napari\n",
    "import numpy as np\n",
    "# Local imports\n",
    "import helpers\n",
    "\n",
    "# Open napari window\n",
    "viewer = napari.Viewer()"
   ]
  },
  {
   "cell_type": "markdown",
   "metadata": {},
   "source": [
    "Note: You may need to put an \"r\" before the image directory path if the string contains backslashes. Don't forget commas between parameters!"
   ]
  },
  {
   "cell_type": "code",
   "execution_count": 6,
   "metadata": {},
   "outputs": [
    {
     "name": "stdout",
     "output_type": "stream",
     "text": [
      "Loading 20 images...\n",
      "Images loaded:\n",
      "['0: 352', '1: 353', '2: 354', '3: 355', '4: 356', '5: 357', '6: 358', '7: 359', '8: 360', '9: 361', '10: 362', '11: 363', '12: 364', '13: 365', '14: 366', '15: 367', '16: 368', '17: 369', '18: 370', '19: 371']\n"
     ]
    },
    {
     "data": {
      "text/plain": [
       "<Image layer 'imgs' at 0x23d96f0e0a0>"
      ]
     },
     "execution_count": 6,
     "metadata": {},
     "output_type": "execute_result"
    }
   ],
   "source": [
    "img_dir = (\n",
    "        r'X:\\Radiography Drive\\2013-11_APS'\n",
    "        r'\\Clarke_2013_November\\048_Sn27Bi_100')\n",
    "imgs = helpers.get_imgs(\n",
    "    img_dir,\n",
    "    img_start=352,\n",
    "    img_stop=372,\n",
    "    img_step=1,\n",
    "    # n_imgs=20,\n",
    "    print_nums=True\n",
    ")\n",
    "viewer.add_image(imgs)"
   ]
  },
  {
   "cell_type": "code",
   "execution_count": null,
   "metadata": {},
   "outputs": [],
   "source": [
    "helpers.save_as_gif(\n",
    "    r'test-animations/Al82Cu18_200_20_1500-1570-2_eq_5fps.gif',\n",
    "    imgs,\n",
    "    equalize_hist=True,\n",
    "    fps=5\n",
    ")"
   ]
  }
 ],
 "metadata": {
  "kernelspec": {
   "display_name": "Python 3.9.5 64-bit (system)",
   "language": "python",
   "name": "python3"
  },
  "language_info": {
   "codemirror_mode": {
    "name": "ipython",
    "version": 3
   },
   "file_extension": ".py",
   "mimetype": "text/x-python",
   "name": "python",
   "nbconvert_exporter": "python",
   "pygments_lexer": "ipython3",
   "version": "3.9.5"
  },
  "orig_nbformat": 4,
  "vscode": {
   "interpreter": {
    "hash": "3c41d41f3d36fd385a14502755cac50397031560266a576f36333e8ea386c7f1"
   }
  }
 },
 "nbformat": 4,
 "nbformat_minor": 2
}
